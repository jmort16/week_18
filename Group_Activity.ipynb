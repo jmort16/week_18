{
 "cells": [
  {
   "cell_type": "markdown",
   "id": "8abd4aaf",
   "metadata": {},
   "source": [
    "##### 1.  Look up the Adam optimization functions in PyTorch https://pytorch.org/docs/stable/optim.html . How does it work? Try at least one other optimization function with the diabetes dataset shown in class. How does the model perform with the new optimizer? Did it perform better or worse than Adam? Why do you think that is?"
   ]
  },
  {
   "cell_type": "markdown",
   "id": "e2eaa805",
   "metadata": {},
   "source": [
    "The Adam optimizer is a popular choice because it adapts the learning rate simultaneously with gradient descent from what I understand.  I tried the Adamax optimizer, and it performed slightly better for this dataset than Adam.  The overall accuracy score was the same for both optimizers, but the sensitivity was 13% higher for Adamax than for Adam.  Because our biggest concern with this dataset is accurately detecting those with diabetes, sensitivity is the most important metric.  From  what we researched, it sounds like Adamax performed better because its algorithm is not influenced by gradient noise as much as the Adam algorithm.  It uses more sparse parameters, which generate less noise when applying gradient descent to the process."
   ]
  },
  {
   "cell_type": "code",
   "execution_count": 41,
   "id": "e9c2a2d8",
   "metadata": {},
   "outputs": [
    {
     "data": {
      "text/html": [
       "<div>\n",
       "<style scoped>\n",
       "    .dataframe tbody tr th:only-of-type {\n",
       "        vertical-align: middle;\n",
       "    }\n",
       "\n",
       "    .dataframe tbody tr th {\n",
       "        vertical-align: top;\n",
       "    }\n",
       "\n",
       "    .dataframe thead th {\n",
       "        text-align: right;\n",
       "    }\n",
       "</style>\n",
       "<table border=\"1\" class=\"dataframe\">\n",
       "  <thead>\n",
       "    <tr style=\"text-align: right;\">\n",
       "      <th></th>\n",
       "      <th>Pregnancies</th>\n",
       "      <th>Glucose</th>\n",
       "      <th>BloodPressure</th>\n",
       "      <th>SkinThickness</th>\n",
       "      <th>Insulin</th>\n",
       "      <th>BMI</th>\n",
       "      <th>DiabetesPedigreeFunction</th>\n",
       "      <th>Age</th>\n",
       "      <th>Outcome</th>\n",
       "    </tr>\n",
       "  </thead>\n",
       "  <tbody>\n",
       "    <tr>\n",
       "      <th>0</th>\n",
       "      <td>6</td>\n",
       "      <td>148</td>\n",
       "      <td>72</td>\n",
       "      <td>35</td>\n",
       "      <td>0</td>\n",
       "      <td>33.6</td>\n",
       "      <td>0.627</td>\n",
       "      <td>50</td>\n",
       "      <td>1</td>\n",
       "    </tr>\n",
       "    <tr>\n",
       "      <th>1</th>\n",
       "      <td>1</td>\n",
       "      <td>85</td>\n",
       "      <td>66</td>\n",
       "      <td>29</td>\n",
       "      <td>0</td>\n",
       "      <td>26.6</td>\n",
       "      <td>0.351</td>\n",
       "      <td>31</td>\n",
       "      <td>0</td>\n",
       "    </tr>\n",
       "    <tr>\n",
       "      <th>2</th>\n",
       "      <td>8</td>\n",
       "      <td>183</td>\n",
       "      <td>64</td>\n",
       "      <td>0</td>\n",
       "      <td>0</td>\n",
       "      <td>23.3</td>\n",
       "      <td>0.672</td>\n",
       "      <td>32</td>\n",
       "      <td>1</td>\n",
       "    </tr>\n",
       "    <tr>\n",
       "      <th>3</th>\n",
       "      <td>1</td>\n",
       "      <td>89</td>\n",
       "      <td>66</td>\n",
       "      <td>23</td>\n",
       "      <td>94</td>\n",
       "      <td>28.1</td>\n",
       "      <td>0.167</td>\n",
       "      <td>21</td>\n",
       "      <td>0</td>\n",
       "    </tr>\n",
       "    <tr>\n",
       "      <th>4</th>\n",
       "      <td>0</td>\n",
       "      <td>137</td>\n",
       "      <td>40</td>\n",
       "      <td>35</td>\n",
       "      <td>168</td>\n",
       "      <td>43.1</td>\n",
       "      <td>2.288</td>\n",
       "      <td>33</td>\n",
       "      <td>1</td>\n",
       "    </tr>\n",
       "  </tbody>\n",
       "</table>\n",
       "</div>"
      ],
      "text/plain": [
       "   Pregnancies  Glucose  BloodPressure  SkinThickness  Insulin   BMI  \\\n",
       "0            6      148             72             35        0  33.6   \n",
       "1            1       85             66             29        0  26.6   \n",
       "2            8      183             64              0        0  23.3   \n",
       "3            1       89             66             23       94  28.1   \n",
       "4            0      137             40             35      168  43.1   \n",
       "\n",
       "   DiabetesPedigreeFunction  Age  Outcome  \n",
       "0                     0.627   50        1  \n",
       "1                     0.351   31        0  \n",
       "2                     0.672   32        1  \n",
       "3                     0.167   21        0  \n",
       "4                     2.288   33        1  "
      ]
     },
     "execution_count": 41,
     "metadata": {},
     "output_type": "execute_result"
    }
   ],
   "source": [
    "import pandas as pd\n",
    "import torch\n",
    "\n",
    "diabetes = pd.read_csv('diabetes.csv')\n",
    "diabetes_df = pd.DataFrame(diabetes)\n",
    "diabetes_df.head()"
   ]
  },
  {
   "cell_type": "code",
   "execution_count": 42,
   "id": "c254b35d",
   "metadata": {},
   "outputs": [],
   "source": [
    "from sklearn.model_selection import train_test_split\n",
    "from sklearn.preprocessing import StandardScaler\n",
    "\n",
    "X = diabetes_df.drop('Outcome', axis=1).values\n",
    "y = diabetes_df['Outcome'].values\n",
    "\n",
    "# Split into training and test set\n",
    "X_train, X_test, y_train, y_test = train_test_split(X, y, test_size = 0.3, random_state=42, stratify=y)\n",
    "\n",
    "# #Standardize\n",
    "sc= StandardScaler()\n",
    "X_train=sc.fit_transform(X_train)\n",
    "X_test=sc.fit_transform(X_test)"
   ]
  },
  {
   "cell_type": "code",
   "execution_count": 43,
   "id": "f1d640d8",
   "metadata": {},
   "outputs": [
    {
     "name": "stdout",
     "output_type": "stream",
     "text": [
      "tensor([[ 0.9314,  2.0179,  0.7807,  ...,  0.4315, -0.3748,  0.6321],\n",
      "        [ 0.6326, -1.1486,  0.4654,  ..., -0.1198, -0.2942,  0.7170],\n",
      "        [-0.5625, -0.4769, -0.2703,  ..., -0.2096,  2.7452,  0.0381],\n",
      "        ...,\n",
      "        [-0.8613, -0.7648,  0.0450,  ...,  0.7648, -0.7838, -0.3014],\n",
      "        [ 0.6326,  2.2099,  1.2010,  ...,  0.4315, -0.6047,  2.7537],\n",
      "        [ 0.0351,  0.7385, -0.5856,  ..., -0.3378, -0.5778,  0.2927]])\n"
     ]
    }
   ],
   "source": [
    "import torch.nn as nn\n",
    "import torch.nn.functional as F #where the activation functions are\n",
    "\n",
    "#create tensors = matrices \n",
    "X_train = torch.FloatTensor(X_train) \n",
    "X_test = torch.FloatTensor(X_test)\n",
    "\n",
    "y_train = torch.LongTensor(y_train)\n",
    "y_test = torch.LongTensor(y_test)\n",
    "\n",
    "print(X_train)"
   ]
  },
  {
   "cell_type": "code",
   "execution_count": 44,
   "id": "0beea931",
   "metadata": {},
   "outputs": [],
   "source": [
    "#artificial neural network\n",
    "class ANN_Model(nn.Module):\n",
    "    def __init__(self, input_features=8,hidden1=20,hidden2=20,out_features=2):\n",
    "        super().__init__() #super is a computed indirect reference. So, it isolates changes\n",
    "        # and makes sure that children in the layers of multiple inheritence are calling\n",
    "        #the right parents\n",
    "        self.layer_1_connection = nn.Linear(input_features, hidden1)\n",
    "        self.layer_2_connection = nn.Linear(hidden1, hidden2)\n",
    "        self.out = nn.Linear(hidden2, out_features)\n",
    "        \n",
    "    def forward(self, x):\n",
    "        #apply activation functions\n",
    "        x = F.relu(self.layer_1_connection(x))\n",
    "        x = F.relu(self.layer_2_connection(x))\n",
    "        x = self.out(x)\n",
    "        return x"
   ]
  },
  {
   "cell_type": "code",
   "execution_count": 45,
   "id": "df52459c",
   "metadata": {},
   "outputs": [
    {
     "name": "stdout",
     "output_type": "stream",
     "text": [
      "Epoch number: 1 with loss: 0.647470235824585\n",
      "Epoch number: 11 with loss: 0.5535582304000854\n",
      "Epoch number: 21 with loss: 0.49165403842926025\n",
      "Epoch number: 31 with loss: 0.45121264457702637\n",
      "Epoch number: 41 with loss: 0.4320707321166992\n",
      "Epoch number: 51 with loss: 0.4135775864124298\n",
      "Epoch number: 61 with loss: 0.3985571563243866\n",
      "Epoch number: 71 with loss: 0.3826017379760742\n",
      "Epoch number: 81 with loss: 0.36624687910079956\n",
      "Epoch number: 91 with loss: 0.3504957854747772\n",
      "Epoch number: 101 with loss: 0.3354971706867218\n",
      "Epoch number: 111 with loss: 0.32112744450569153\n",
      "Epoch number: 121 with loss: 0.3066723644733429\n",
      "Epoch number: 131 with loss: 0.29085466265678406\n",
      "Epoch number: 141 with loss: 0.2746669054031372\n",
      "Epoch number: 151 with loss: 0.25882041454315186\n",
      "Epoch number: 161 with loss: 0.24144336581230164\n",
      "Epoch number: 171 with loss: 0.22444197535514832\n",
      "Epoch number: 181 with loss: 0.20857736468315125\n",
      "Epoch number: 191 with loss: 0.19238297641277313\n",
      "Epoch number: 201 with loss: 0.1772409826517105\n",
      "Epoch number: 211 with loss: 0.16301526129245758\n",
      "Epoch number: 221 with loss: 0.1484755277633667\n",
      "Epoch number: 231 with loss: 0.13620029389858246\n",
      "Epoch number: 241 with loss: 0.12553511559963226\n",
      "Epoch number: 251 with loss: 0.11654473096132278\n",
      "Epoch number: 261 with loss: 0.10846861451864243\n",
      "Epoch number: 271 with loss: 0.10110651701688766\n",
      "Epoch number: 281 with loss: 0.09417381137609482\n",
      "Epoch number: 291 with loss: 0.08780176937580109\n",
      "Epoch number: 301 with loss: 0.08180848509073257\n",
      "Epoch number: 311 with loss: 0.07629428058862686\n",
      "Epoch number: 321 with loss: 0.07121556997299194\n",
      "Epoch number: 331 with loss: 0.0661964863538742\n",
      "Epoch number: 341 with loss: 0.061433278024196625\n",
      "Epoch number: 351 with loss: 0.05713672190904617\n",
      "Epoch number: 361 with loss: 0.05333581194281578\n",
      "Epoch number: 371 with loss: 0.049994535744190216\n",
      "Epoch number: 381 with loss: 0.046980004757642746\n",
      "Epoch number: 391 with loss: 0.044117581099271774\n",
      "Epoch number: 401 with loss: 0.04163724184036255\n",
      "Epoch number: 411 with loss: 0.03937854990363121\n",
      "Epoch number: 421 with loss: 0.03711461275815964\n",
      "Epoch number: 431 with loss: 0.03475257754325867\n",
      "Epoch number: 441 with loss: 0.03259483352303505\n",
      "Epoch number: 451 with loss: 0.030497392639517784\n",
      "Epoch number: 461 with loss: 0.028454266488552094\n",
      "Epoch number: 471 with loss: 0.02671857364475727\n",
      "Epoch number: 481 with loss: 0.02499174326658249\n",
      "Epoch number: 491 with loss: 0.023504773154854774\n"
     ]
    }
   ],
   "source": [
    "torch.manual_seed(42)\n",
    "\n",
    "#create instance of model\n",
    "ann = ANN_Model()\n",
    "#loss function\n",
    "loss_function = nn.CrossEntropyLoss()\n",
    "\n",
    "#optimizer\n",
    "optimizer = torch.optim.Adamax(ann.parameters(),lr=0.01)\n",
    "#run model through multiple epochs/iterations\n",
    "final_loss = []\n",
    "n_epochs = 500\n",
    "for epoch in range(n_epochs):\n",
    "    y_pred = ann.forward(X_train)\n",
    "    loss = loss_function(y_pred, y_train)\n",
    "    final_loss.append(loss)\n",
    "    \n",
    "    if epoch % 10 == 1:\n",
    "        print(f'Epoch number: {epoch} with loss: {loss}')\n",
    "        \n",
    "    optimizer.zero_grad() #zero the gradient before running backwards propagation\n",
    "    loss.backward() \n",
    "    optimizer.step() #perform one optimization step each epoch"
   ]
  },
  {
   "cell_type": "code",
   "execution_count": 46,
   "id": "98d9b765",
   "metadata": {},
   "outputs": [
    {
     "name": "stdout",
     "output_type": "stream",
     "text": [
      "              precision    recall  f1-score   support\n",
      "\n",
      "           0       0.78      0.74      0.76       150\n",
      "           1       0.56      0.62      0.59        81\n",
      "\n",
      "    accuracy                           0.70       231\n",
      "   macro avg       0.67      0.68      0.67       231\n",
      "weighted avg       0.70      0.70      0.70       231\n",
      "\n"
     ]
    }
   ],
   "source": [
    "#predictions\n",
    "y_pred = []\n",
    "\n",
    "with torch.no_grad():\n",
    "    for i, data in enumerate(X_test):\n",
    "        prediction = ann(data)\n",
    "        y_pred.append(prediction.argmax()) \n",
    "from sklearn.metrics import classification_report\n",
    "\n",
    "print(classification_report(y_test, y_pred))"
   ]
  },
  {
   "cell_type": "markdown",
   "id": "4ded8997",
   "metadata": {},
   "source": [
    "##### 2.  Write a function that lists and counts the number of divisors for an input value.\n",
    "\n",
    "##### Example 1:\n",
    "\n",
    "##### Input: 5\n",
    "##### Output: “There are 2 divisors: 1 and 5”\n",
    "\n",
    "##### Example 2:\n",
    "##### Input: 40\n",
    "##### Output: “There are 8 divisors: 1, 2, 4, 5, 8, 10, 20, and 40"
   ]
  },
  {
   "cell_type": "code",
   "execution_count": 47,
   "id": "48e5dc6b",
   "metadata": {},
   "outputs": [],
   "source": [
    "def divisors(num):\n",
    "    div_list=[]\n",
    "    count = 0\n",
    "    for i in range(1, num):\n",
    "        if num % (i) == 0:\n",
    "            div_list.append(i)\n",
    "            count = count + 1\n",
    "        else:\n",
    "            pass\n",
    "    print('There are ',count, ' divisors: ',div_list)"
   ]
  },
  {
   "cell_type": "code",
   "execution_count": 48,
   "id": "150b4c0c",
   "metadata": {},
   "outputs": [
    {
     "name": "stdout",
     "output_type": "stream",
     "text": [
      "There are  7  divisors:  [1, 2, 4, 5, 8, 10, 20]\n"
     ]
    }
   ],
   "source": [
    "divisors(40)"
   ]
  }
 ],
 "metadata": {
  "kernelspec": {
   "display_name": "Python 3 (ipykernel)",
   "language": "python",
   "name": "python3"
  },
  "language_info": {
   "codemirror_mode": {
    "name": "ipython",
    "version": 3
   },
   "file_extension": ".py",
   "mimetype": "text/x-python",
   "name": "python",
   "nbconvert_exporter": "python",
   "pygments_lexer": "ipython3",
   "version": "3.9.7"
  }
 },
 "nbformat": 4,
 "nbformat_minor": 5
}
