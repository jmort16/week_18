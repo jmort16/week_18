{
 "cells": [
  {
   "cell_type": "markdown",
   "id": "b8c61df0",
   "metadata": {},
   "source": [
    "##### 1.\tWhat is a neural network? What are the general steps required to build a neural network? "
   ]
  },
  {
   "cell_type": "code",
   "execution_count": null,
   "id": "d24d11ce",
   "metadata": {},
   "outputs": [],
   "source": []
  },
  {
   "cell_type": "markdown",
   "id": "8c584ee6",
   "metadata": {},
   "source": [
    "##### 2.\tGenerally, how do you check the performance of a neural network? Why? "
   ]
  },
  {
   "cell_type": "code",
   "execution_count": null,
   "id": "6679c241",
   "metadata": {},
   "outputs": [],
   "source": []
  },
  {
   "cell_type": "markdown",
   "id": "07d9a2db",
   "metadata": {},
   "source": [
    "##### 3.\tCreate a neural network using keras to predict the outcome of either of these datasets: \n",
    "##### Cardiac Arrhythmia: https://archive.ics.uci.edu/ml/datasets/Arrhythmia \n",
    "##### Abalone age: https://archive.ics.uci.edu/ml/datasets/Abalone\n"
   ]
  },
  {
   "cell_type": "code",
   "execution_count": null,
   "id": "d487efaf",
   "metadata": {},
   "outputs": [],
   "source": []
  },
  {
   "cell_type": "markdown",
   "id": "00d0e783",
   "metadata": {},
   "source": [
    "##### 4.\tWrite another algorithm to predict the same result as the previous question using either KNN or logistic regression."
   ]
  },
  {
   "cell_type": "code",
   "execution_count": null,
   "id": "5fb8ac6f",
   "metadata": {},
   "outputs": [],
   "source": []
  },
  {
   "cell_type": "markdown",
   "id": "1fbf34a6",
   "metadata": {},
   "source": [
    "##### 5.\tCreate a neural network using pytorch to predict the same result as question 3. "
   ]
  },
  {
   "cell_type": "code",
   "execution_count": null,
   "id": "b8ccf8e5",
   "metadata": {},
   "outputs": [],
   "source": []
  },
  {
   "cell_type": "markdown",
   "id": "ef59d58b",
   "metadata": {},
   "source": [
    "##### 6.\tCompare the performance of the neural networks to the other model you created. Which performed better? Why do you think that is?"
   ]
  },
  {
   "cell_type": "code",
   "execution_count": null,
   "id": "bdef5cbc",
   "metadata": {},
   "outputs": [],
   "source": []
  }
 ],
 "metadata": {
  "kernelspec": {
   "display_name": "Python 3 (ipykernel)",
   "language": "python",
   "name": "python3"
  },
  "language_info": {
   "codemirror_mode": {
    "name": "ipython",
    "version": 3
   },
   "file_extension": ".py",
   "mimetype": "text/x-python",
   "name": "python",
   "nbconvert_exporter": "python",
   "pygments_lexer": "ipython3",
   "version": "3.9.7"
  }
 },
 "nbformat": 4,
 "nbformat_minor": 5
}
